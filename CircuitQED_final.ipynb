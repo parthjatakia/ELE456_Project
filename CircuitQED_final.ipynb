{
 "cells": [
  {
   "cell_type": "code",
   "execution_count": null,
   "metadata": {
    "ExecuteTime": {
     "end_time": "2021-05-10T20:26:25.434176Z",
     "start_time": "2021-05-10T20:26:24.660809Z"
    }
   },
   "outputs": [],
   "source": [
    "import numpy as np\n",
    "import qutip as qt\n",
    "from matplotlib import pyplot as plt\n",
    "%matplotlib inline\n",
    "%config InlineBackend.figure_format='retina'\n",
    "plt.rcParams.update({\n",
    "    \"savefig.facecolor\": (1.0, 1.0, 1.0, 1),  # blue  with alpha = 20%\n",
    "})"
   ]
  },
  {
   "cell_type": "markdown",
   "metadata": {},
   "source": [
    "## Hamiltonian\n",
    "\n",
    "$$\\hat{H} = \\hat{H}_{b1} + \\hat{H}_{b2} + \\hat{H}_I$$\n",
    "\n",
    "### Transmon Bare Hamilonian\n",
    "\n",
    "$ \\hat{H}_{b1} = \\sum_j \\omega_j | j \\rangle\\langle j | $ where $\\omega_{j}=\\left(\\omega-\\frac{\\eta}{2}\\right) j+\\frac{\\eta}{2} j^{2}$ which is also \n",
    "\n",
    "$$\\hat{H}_{b1} = \\omega \\hat{c}^{\\dagger} \\hat{c}+\\frac{\\eta}{2} \\hat{c}^{\\dagger} \\hat{c}\\left(\\hat{c}^{\\dagger} \\hat{c}-1\\right)$$\n",
    "\n",
    "### Resonator Bare Hamiltonian\n",
    "\n",
    "$$\\hat{H}_{b2} = \\left(\\omega - \\Delta \\right) \\hat{a}^{\\dagger}\\hat{a}$$\n",
    "\n",
    "### The RWA interaction Hamiltonian\n",
    "\n",
    "The coupling constant is given as $g_{k, k+1} \\approx g \\sqrt{k+1}\\left(1+\\frac{\\eta}{2 \\omega} k\\right)$. Thus this can be written as\n",
    "\n",
    "$$g_{k, k+1} \\approx g \\sqrt{\\hat{c}^{\\dagger}\\hat{c}+1}\\left(1+\\frac{\\eta}{2 \\omega} \\hat{c}^{\\dagger}\\hat{c}\\right)$$\n",
    "\n",
    "Therefore the RWA interaction Hamiltonian is as follows\n",
    "\n",
    "$$\\hat{H}_I = \\sum_{k, n} g_{k, k+1} \\sqrt{n}|k+1, n-1\\rangle\\langle k, n|+\\text { H.c. }$$\n",
    "\n",
    "$$\\hat{H}_I =  g \\left(1+\\frac{\\eta}{2 \\omega} \\hat{c}^{\\dagger}\\hat{c}\\right) \\left(\\hat{a}^{\\dagger}\\hat{c} + \\hat{a}\\hat{c}^{\\dagger}\\right)$$"
   ]
  },
  {
   "cell_type": "code",
   "execution_count": null,
   "metadata": {
    "ExecuteTime": {
     "end_time": "2021-05-10T20:26:25.636020Z",
     "start_time": "2021-05-10T20:26:25.623365Z"
    }
   },
   "outputs": [],
   "source": [
    "# Function that outputs energy for bare Hamiltonian of the transmons\n",
    "def H_q(state, eta, w01):\n",
    "    return(w01*state + (eta/2)*state*(state - 1))\n",
    "\n",
    "# Function that outputs energy for bare Hamiltonian of the resonator\n",
    "def H_r(number_photons, w01, Delta):\n",
    "    return((w01 + Delta)*number_photons)\n",
    "\n",
    "# Function that outputs the coupling constant between k,n to k-1, n+1\n",
    "def geff(g, qubit_state, photon_state, eta, w01):\n",
    "    just_g = g*(1 + (eta/(2*w01)*qubit_state))\n",
    "    return(just_g * np.sqrt(qubit_state + 1)*np.sqrt(photon_state))\n",
    "\n",
    "# Computes the energy eigenstate for RWA strip i.e. Hilbert subspace with constant excitation number\n",
    "def compute(poss_q, poss_r, N_q, N_r, w, delta, eta, g):\n",
    "\n",
    "    H = np.zeros((poss_q.size, poss_q.size))\n",
    "    \n",
    "    for i in range(poss_q.size) :\n",
    "        H[i,i] = H_q(poss_q[i], eta, w) + H_r(poss_r[i], w, delta)\n",
    "        if i < poss_q.size - 1 :\n",
    "            H[i,i+1] = geff(g, poss_q[i], poss_r[i], eta, w)\n",
    "            H[i+1,i] = geff(g, poss_q[i], poss_r[i], eta, w)\n",
    "    \n",
    "    energy = sorted(np.linalg.eig(H)[0])\n",
    "    return energy"
   ]
  },
  {
   "cell_type": "code",
   "execution_count": null,
   "metadata": {
    "ExecuteTime": {
     "end_time": "2021-05-10T20:26:26.263982Z",
     "start_time": "2021-05-10T20:26:26.255318Z"
    }
   },
   "outputs": [],
   "source": [
    "# Generates a matrix containing eigenenergy of |k,n> at the (k,n) position\n",
    "def energyMatrix(N_q, N_r, w, delta, eta, g) :\n",
    "    emat = np.zeros((N_q, N_r))\n",
    "    for i in np.arange(0, N_q + N_r -2):\n",
    "        poss_q = np.flip(np.arange(0,np.min([i+1,N_q])))\n",
    "        poss_r = np.arange(np.max([0,i+1-(N_q)]),i+1)\n",
    "        energy = compute(poss_q, poss_r, N_q, N_r, w, delta, eta, g)\n",
    "        for j in range(poss_q.size):\n",
    "            if poss_q[j] < N_q and poss_r[j] < N_r:\n",
    "                emat[poss_q[j],poss_r[j]] = np.real(energy[j])\n",
    "    return emat"
   ]
  },
  {
   "cell_type": "code",
   "execution_count": null,
   "metadata": {
    "ExecuteTime": {
     "end_time": "2021-05-10T20:26:27.332890Z",
     "start_time": "2021-05-10T20:26:27.327662Z"
    }
   },
   "outputs": [],
   "source": [
    "# Generates two arrays \n",
    "# First array is of eigen energies starting at |k,0> to |k,N_r>\n",
    "# Second array is of excitation number starting at k/n_c to (k + N_r)/n_c\n",
    "def stripCalc(emat, k, nc, w, delta):\n",
    "    wbar = emat[k,:] - np.arange(k, emat.shape[1]+k)*(w+delta)\n",
    "    nphoton = np.arange(k, emat.shape[1]+k)/nc\n",
    "    return wbar, nphoton"
   ]
  },
  {
   "cell_type": "code",
   "execution_count": null,
   "metadata": {
    "ExecuteTime": {
     "end_time": "2021-05-10T20:26:27.612004Z",
     "start_time": "2021-05-10T20:26:27.606046Z"
    }
   },
   "outputs": [],
   "source": [
    "# Generates two arrays : the purpose is to create arrays with the same start \n",
    "# and end of the second array irrespective of transmon state.\n",
    "## First array is of eigen energies starting at |k,N_q - k> to |k, N_r - k >\n",
    "## Second array is of excitation number starting at N_q/n_c to N_r/n_c\n",
    "def standardStrip(emat, k, nc, w, delta) :\n",
    "    y1, x1 = stripCalc(emat,k,nc,w,delta)\n",
    "    dellist = np.concatenate((np.arange(k,N_q-1),np.arange(N_r-k,N_r)))\n",
    "    y1 = np.delete(y1,dellist)\n",
    "    x1 = np.delete(x1,dellist)\n",
    "    return y1, x1"
   ]
  },
  {
   "cell_type": "code",
   "execution_count": null,
   "metadata": {
    "ExecuteTime": {
     "end_time": "2021-05-10T20:26:28.037364Z",
     "start_time": "2021-05-10T20:26:28.028129Z"
    }
   },
   "outputs": [],
   "source": [
    "# Returns a line for input of two points and a minimum y value. Given minimum y value is 0\n",
    "def generateLine(p1x, p1y, p2x, p2y, ymax):\n",
    "    slope = (p2y - p1y) / (p2x - p1y)\n",
    "    print(\"Actual Slope = \" + str(slope))\n",
    "    c = (p1y - slope*p1x)\n",
    "    x0 = (ymax-c)/slope\n",
    "    xline = np.linspace(0,x0,50)\n",
    "    yline = np.linspace(c,ymax,50)\n",
    "    return xline,yline"
   ]
  },
  {
   "cell_type": "code",
   "execution_count": null,
   "metadata": {
    "ExecuteTime": {
     "end_time": "2021-05-10T20:27:36.653982Z",
     "start_time": "2021-05-10T20:27:34.858160Z"
    },
    "scrolled": true
   },
   "outputs": [],
   "source": [
    "# Values of parameter\n",
    "# which = 0 Paper Sank et al.\n",
    "# which = 1 IBM : Armonk\n",
    "N_q = 20\n",
    "which = 1\n",
    "nc = [60,76200][which]\n",
    "N_r = 20*nc\n",
    "w = [5.4, 4.972][which]\n",
    "delta = [1.38, 2.021][which]\n",
    "eta = [-0.221,-0.348][which]\n",
    "g = [0.087,0.00366][which]\n",
    "emat = energyMatrix(N_q, N_r, w, delta, eta, g)\n",
    "print(\"nc = \" + str((delta/g)**2/4 ))"
   ]
  },
  {
   "cell_type": "code",
   "execution_count": null,
   "metadata": {
    "ExecuteTime": {
     "end_time": "2021-05-10T20:27:38.197075Z",
     "start_time": "2021-05-10T20:27:37.613806Z"
    }
   },
   "outputs": [],
   "source": [
    "# Supplementary Fig 1\n",
    "print(\"Slope from - 2g^2/Delta = \" + str(-2*g**2/delta))\n",
    "print(\"Slope from - eta/(2*nc) = \" + str(eta/((2*(delta/g)**2)/4)))\n",
    "delw = (emat[1,:] - emat[0,:]) - w\n",
    "nphoton = np.arange(0, N_r)\n",
    "indx_max = np.argmin(np.abs(delw + 0.5))\n",
    "plt.plot(nphoton[:indx_max], delw[:indx_max],label = \"Numerical\")\n",
    "\n",
    "#line\n",
    "xline, yline = generateLine(nphoton[0],delw[0],nphoton[1],delw[1], np.min(delw[:indx_max]))\n",
    "plt.plot(xline,yline, \"--\", label = \"Linear Approximation\")\n",
    "plt.xlabel(\"Number of photons\")\n",
    "plt.ylabel(\"AC stark shift (GHz)\")\n",
    "plt.legend()\n",
    "plt.grid()\n",
    "plt.tight_layout()\n",
    "plt.savefig(\"AC_stark_Shift_IBM.png\", dpi = 600, transparent=False)"
   ]
  },
  {
   "cell_type": "code",
   "execution_count": null,
   "metadata": {
    "ExecuteTime": {
     "end_time": "2021-05-10T20:27:40.393211Z",
     "start_time": "2021-05-10T20:27:40.253534Z"
    }
   },
   "outputs": [],
   "source": [
    "# Fig 4.a\n",
    "%matplotlib inline\n",
    "clrlist = [\"violet\", \"indigo\", \"blue\", \"green\",\"yellow\", \"orange\", \"red\"]\n",
    "mylabel = [\"$\\omega_0$\",\"$\\omega_1$\",\"$\\omega_2$\",\"$\\omega_3$\",\"$\\omega_4$\",\"$\\omega_5$\",\"$\\omega_6$\"]\n",
    "intsct = [[0,5],[0,4]]\n",
    "thrshld = 0.01\n",
    "fig, ax1 = plt.subplots()\n",
    "for i in range(7) :\n",
    "    y,x = stripCalc(emat,i,nc,w, delta)\n",
    "    ax1.plot(x,y, label = mylabel[i],color=clrlist[i], zorder=1)\n",
    "    ax1.plot(x,y + 2*(w+delta), \"--\",color=clrlist[i], zorder=2)\n",
    "for i in range(len(intsct)):\n",
    "    y1, x1 = stripCalc(emat,intsct[i][0],nc,w,delta)\n",
    "    y2, x2 = stripCalc(emat,intsct[i][1],nc,w,delta)\n",
    "    y2 = y2 + 2*(w+delta)\n",
    "    indx = np.where(np.abs(y2-y1) < thrshld)\n",
    "    ax1.scatter(x1[indx[0][0]], y1[indx[0][0]], color = \"black\", zorder=3)\n",
    "    \n",
    "ax1.legend(loc='center left', bbox_to_anchor=(1, 0.5))\n",
    "ax1.set_xlabel(\"$n/n_c$\")\n",
    "ax1.set_ylabel(\"$\\omega_k/2\\pi$ (in GHz)\")\n",
    "plt.rcParams.update({\n",
    "    \"savefig.facecolor\": (1.0, 1.0, 1.0, 1),  # blue  with alpha = 20%\n",
    "})\n",
    "fig.tight_layout()\n",
    "fig.savefig(\"Fig4a_IBM.png\", dpi = 600, transparent=False)"
   ]
  },
  {
   "cell_type": "code",
   "execution_count": null,
   "metadata": {
    "ExecuteTime": {
     "end_time": "2021-05-10T20:28:29.444488Z",
     "start_time": "2021-05-10T20:27:45.782547Z"
    }
   },
   "outputs": [],
   "source": [
    "# Fig 4.b\n",
    "%matplotlib inline\n",
    "\n",
    "N_q = 9\n",
    "nc = 76230\n",
    "N_r = 5*nc\n",
    "which = 1\n",
    "w = [5.4, 4.972][which]\n",
    "delta = [1.38, 2.021][which]\n",
    "eta = [-0.221,-0.348][which]\n",
    "g = [0.087,0.00366][which]\n",
    "\n",
    "w_r = w + delta\n",
    "print(\"The resonator frequency is \" + str(w_r) + \" GHz\")\n",
    "w = [np.linspace(4.95, 5.6, 12)]\n",
    "delta = [(w_r - w[0])]\n",
    "intsct = [[0,5]]\n",
    "shiftval = [2]\n",
    "\n",
    "\n",
    "for j in range(len(intsct)):\n",
    "    intsctX = []\n",
    "    intsctY = []\n",
    "    for i in range(w[j].size) :\n",
    "        emat = energyMatrix(N_q, N_r, w[j][i], delta[j][i], eta, g)\n",
    "        y1,x1 = standardStrip(emat,intsct[j][0],nc,w[j][i], delta[j][i])\n",
    "        y2,x2 = standardStrip(emat,intsct[j][1],nc,w[j][i], delta[j][i])\n",
    "        shift = shiftval[j]*(w[j][i] + delta[j][i])\n",
    "        indx = np.argmin(np.abs(y1-(y2 + shift)))\n",
    "        intsctX.append(x1[indx])\n",
    "        intsctY.append(y1[indx])\n",
    "    plotx = w[j]\n",
    "    ploty = np.array(intsctX)\n",
    "    plt.plot(plotx, ploty, label = str(j))\n",
    "plt.xlabel(\"w\")\n",
    "plt.ylabel(\"n/nc\")\n",
    "plt.ylim((0,12))\n",
    "plt.savefig(\"Fig4b_IBM.png\",dpi = 600)"
   ]
  },
  {
   "cell_type": "code",
   "execution_count": null,
   "metadata": {},
   "outputs": [],
   "source": []
  }
 ],
 "metadata": {
  "kernelspec": {
   "display_name": "Python 3",
   "language": "python",
   "name": "python3"
  },
  "language_info": {
   "codemirror_mode": {
    "name": "ipython",
    "version": 3
   },
   "file_extension": ".py",
   "mimetype": "text/x-python",
   "name": "python",
   "nbconvert_exporter": "python",
   "pygments_lexer": "ipython3",
   "version": "3.8.5"
  },
  "varInspector": {
   "cols": {
    "lenName": 16,
    "lenType": 16,
    "lenVar": 40
   },
   "kernels_config": {
    "python": {
     "delete_cmd_postfix": "",
     "delete_cmd_prefix": "del ",
     "library": "var_list.py",
     "varRefreshCmd": "print(var_dic_list())"
    },
    "r": {
     "delete_cmd_postfix": ") ",
     "delete_cmd_prefix": "rm(",
     "library": "var_list.r",
     "varRefreshCmd": "cat(var_dic_list()) "
    }
   },
   "position": {
    "height": "438.722px",
    "left": "1411.45px",
    "right": "20px",
    "top": "120px",
    "width": "314.006px"
   },
   "types_to_exclude": [
    "module",
    "function",
    "builtin_function_or_method",
    "instance",
    "_Feature"
   ],
   "window_display": false
  }
 },
 "nbformat": 4,
 "nbformat_minor": 4
}
